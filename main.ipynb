{
 "cells": [
  {
   "cell_type": "code",
   "execution_count": 1,
   "id": "c71db149-752f-4800-b53c-16dcb9f2d562",
   "metadata": {},
   "outputs": [],
   "source": [
    "import os\n",
    "import random\n",
    "import numpy as np\n",
    "import torch\n",
    "import torch.nn as nn\n",
    "from torchvision import datasets, transforms\n",
    "from torchvision.models import resnet18, ResNet18_Weights\n",
    "from torch.utils.data import DataLoader, random_split\n",
    "\n",
    "import zipfile"
   ]
  },
  {
   "cell_type": "code",
   "execution_count": 2,
   "id": "f3814656",
   "metadata": {},
   "outputs": [
    {
     "data": {
      "text/plain": [
       "device(type='cuda')"
      ]
     },
     "execution_count": 2,
     "metadata": {},
     "output_type": "execute_result"
    }
   ],
   "source": [
    "# --- SET SEED FOR REPRODUCIBILITY ---\n",
    "SEED = 42  # фиксируем seed для полной воспроизводимости\n",
    "torch.manual_seed(SEED)  # фиксируем seed для PyTorch\n",
    "random.seed(SEED)        # фиксируем seed для Python random\n",
    "np.random.seed(SEED)     # фиксируем seed для NumPy\n",
    "torch.backends.cudnn.deterministic = True  # гарантирует детерминированность на GPU\n",
    "torch.backends.cudnn.benchmark = False     # отключаем autotuner, чтобы не влиял на детерминированность\n",
    "\n",
    "# --- CONFIGURATION ---\n",
    "# --- DOWNLOAD ZIP FROM GOOGLE DRIVE ---\n",
    "output = 'data_full.zip'\n",
    "unzip_dir = 'unzipped_data_full'\n",
    "\n",
    "if not os.path.exists(unzip_dir):\n",
    "    with zipfile.ZipFile(output, 'r') as zip_ref:\n",
    "        zip_ref.extractall(unzip_dir)\n",
    "\n",
    "data_dir = 'unzipped_data_full/data_full'\n",
    "batch_size = 8                 # количество изображений в одном батче\n",
    "num_epochs = 20                # сколько раз модель проходит весь датасет\n",
    "val_split = 0.2                # доля валидационных данных (20%)\n",
    "device = torch.device('cuda' if torch.cuda.is_available() else 'cpu')  # автоматический выбор CUDA или CPU\n",
    "device"
   ]
  },
  {
   "cell_type": "code",
   "execution_count": null,
   "id": "19bb6641-c534-4bef-a015-dff706437cef",
   "metadata": {},
   "outputs": [
    {
     "name": "stdout",
     "output_type": "stream",
     "text": [
      "Epoch [1/20], Loss: 1.1869, Train Acc: 0.4563, Val Acc: 0.4510\n",
      "✅ Saved best model at epoch 1 with val_acc: 0.4510\n",
      "Epoch [2/20], Loss: 0.5294, Train Acc: 0.8204, Val Acc: 0.6078\n",
      "✅ Saved best model at epoch 2 with val_acc: 0.6078\n",
      "Epoch [3/20], Loss: 0.2452, Train Acc: 0.9417, Val Acc: 0.7255\n",
      "✅ Saved best model at epoch 3 with val_acc: 0.7255\n",
      "Epoch [4/20], Loss: 0.1026, Train Acc: 0.9951, Val Acc: 0.6667\n",
      "Epoch [5/20], Loss: 0.1168, Train Acc: 0.9660, Val Acc: 0.6863\n",
      "Epoch [6/20], Loss: 0.0988, Train Acc: 0.9709, Val Acc: 0.7255\n",
      "Epoch [7/20], Loss: 0.0734, Train Acc: 0.9854, Val Acc: 0.7059\n",
      "Epoch [8/20], Loss: 0.1292, Train Acc: 0.9660, Val Acc: 0.6471\n",
      "Epoch [9/20], Loss: 0.0584, Train Acc: 0.9903, Val Acc: 0.7255\n",
      "Epoch [10/20], Loss: 0.0368, Train Acc: 0.9951, Val Acc: 0.7059\n",
      "Epoch [11/20], Loss: 0.0259, Train Acc: 1.0000, Val Acc: 0.6667\n",
      "Epoch [12/20], Loss: 0.0129, Train Acc: 1.0000, Val Acc: 0.7255\n",
      "Epoch [13/20], Loss: 0.0475, Train Acc: 0.9903, Val Acc: 0.5490\n",
      "Epoch [14/20], Loss: 0.0575, Train Acc: 0.9806, Val Acc: 0.7059\n",
      "Epoch [15/20], Loss: 0.0452, Train Acc: 0.9903, Val Acc: 0.7255\n",
      "Epoch [16/20], Loss: 0.1212, Train Acc: 0.9709, Val Acc: 0.7059\n",
      "Epoch [17/20], Loss: 0.1038, Train Acc: 0.9563, Val Acc: 0.6078\n",
      "Epoch [18/20], Loss: 0.0928, Train Acc: 0.9660, Val Acc: 0.7255\n",
      "Epoch [19/20], Loss: 0.0636, Train Acc: 0.9660, Val Acc: 0.7255\n",
      "Epoch [20/20], Loss: 0.0372, Train Acc: 0.9903, Val Acc: 0.7255\n"
     ]
    }
   ],
   "source": [
    "# --- PREPROCESSING ---\n",
    "weights = ResNet18_Weights.DEFAULT  # используем предобученные веса ImageNet\n",
    "mean, std = weights.transforms().mean, weights.transforms().std  # стандартизация под ImageNet\n",
    "\n",
    "# трансформации для тренировочной выборки (с аугментациями)\n",
    "train_transform = transforms.Compose([\n",
    "    transforms.Resize((224, 224)),                          # приводим все изображения к 224x224\n",
    "    transforms.RandomHorizontalFlip(p=0.5),                 # случайный поворот по горизонтали\n",
    "    transforms.RandomRotation(20),                          # случайный поворот на ±20 градусов\n",
    "    transforms.RandomAffine(degrees=0, translate=(0.2, 0.2), scale=(0.9, 1.1)),  # аффинные преобразования\n",
    "    transforms.ColorJitter(brightness=0.4, contrast=0.4),   # случайные изменения яркости и контраста\n",
    "    transforms.ToTensor(),                                  # перевод в тензор [C, H, W]\n",
    "    transforms.Normalize(mean, std),                        # нормализация под ImageNet\n",
    "])\n",
    "\n",
    "# трансформации для валидационной выборки (без аугментаций)\n",
    "val_transform = transforms.Compose([\n",
    "    transforms.Resize((224, 224)),\n",
    "    transforms.ToTensor(),\n",
    "    transforms.Normalize(mean, std),\n",
    "])\n",
    "\n",
    "# --- DATASET ---\n",
    "full_dataset = datasets.ImageFolder(data_dir)   # читаем датасет: каждая папка = один класс\n",
    "class_names = full_dataset.classes              # сохраняем список классов\n",
    "\n",
    "val_size = int(len(full_dataset) * val_split)   # размер валидационной выборки\n",
    "train_size = len(full_dataset) - val_size       # размер тренировочной выборки\n",
    "\n",
    "# фиксированный random_split с генератором (для стабильного train/val деления)\n",
    "generator = torch.Generator().manual_seed(SEED)\n",
    "train_dataset, val_dataset = random_split(full_dataset, [train_size, val_size], generator=generator)\n",
    "\n",
    "# применяем трансформации\n",
    "train_dataset.dataset.transform = train_transform\n",
    "val_dataset.dataset.transform = val_transform\n",
    "\n",
    "# создаём батчеры\n",
    "train_loader = DataLoader(train_dataset, batch_size=batch_size, shuffle=True)  # перемешиваем батчи на тренировке\n",
    "val_loader = DataLoader(val_dataset, batch_size=batch_size)                    # валидация — без shuffle\n",
    "\n",
    "# --- MODEL ---\n",
    "model = resnet18(weights=weights)  # загружаем предобученную модель ResNet18\n",
    "\n",
    "model.fc = nn.Linear(model.fc.in_features, len(class_names))  # переопределяем выходной слой под свои классы\n",
    "model = model.to(device)  # отправляем модель на GPU/CPU\n",
    "\n",
    "criterion = nn.CrossEntropyLoss()  # функция потерь: кросс-энтропия для классификации\n",
    "optimizer = torch.optim.Adam(model.parameters(), lr=1e-4, weight_decay=1e-5)\n",
    "# Adam — адаптивный оптимизатор\n",
    "# lr — learning rate (скорость обучения)\n",
    "# weight_decay — L2-регуляризация (борьба с переобучением)\n",
    "\n",
    "# --- TRAINING LOOP ---\n",
    "train_losses, val_accuracies = [], []  # для графиков\n",
    "best_val_acc = 0.0                     # трекинг лучшей валидации\n",
    "\n",
    "for epoch in range(num_epochs):  # цикл по эпохам\n",
    "    model.train()  # режим обучения (вкл. Dropout, BatchNorm)\n",
    "    total_loss, correct, total = 0.0, 0, 0  # сбрасываем метрики\n",
    "\n",
    "    for images, labels in train_loader:\n",
    "        images, labels = images.to(device), labels.to(device)\n",
    "\n",
    "        optimizer.zero_grad()             # обнуляем градиенты\n",
    "        outputs = model(images)          # делаем предсказание\n",
    "        loss = criterion(outputs, labels)  # вычисляем loss\n",
    "        loss.backward()                  # обратное распространение ошибки\n",
    "        optimizer.step()                 # обновляем веса\n",
    "\n",
    "        total_loss += loss.item() * images.size(0)  # накапливаем потери\n",
    "        _, preds = torch.max(outputs, 1)            # получаем предсказанные классы\n",
    "        correct += (preds == labels).sum().item()   # сколько предсказаний правильны\n",
    "        total += labels.size(0)                     # общее количество примеров\n",
    "\n",
    "    train_acc = correct / total                     # точность на тренировке\n",
    "    avg_loss = total_loss / total                   # средняя потеря на тренировке\n",
    "    train_losses.append(avg_loss)                   # логируем\n",
    "    model.eval()                                    # режим валидации (выкл. Dropout, BatchNorm)\n",
    "\n",
    "    val_correct, val_total = 0, 0\n",
    "    with torch.no_grad():  # не вычисляем градиенты\n",
    "        for images, labels in val_loader:\n",
    "            images, labels = images.to(device), labels.to(device)\n",
    "            outputs = model(images)\n",
    "            _, preds = torch.max(outputs, 1)\n",
    "            val_correct += (preds == labels).sum().item()\n",
    "            val_total += labels.size(0)\n",
    "\n",
    "    val_acc = val_correct / val_total\n",
    "    val_accuracies.append(val_acc)\n",
    "\n",
    "    print(f\"Epoch [{epoch+1}/{num_epochs}], Loss: {avg_loss:.4f}, Train Acc: {train_acc:.4f}, Val Acc: {val_acc:.4f}\")\n",
    "\n",
    "    # Сохраняем модель, если она самая точная на валидации\n",
    "    if val_acc > best_val_acc:\n",
    "        best_val_acc = val_acc\n",
    "        torch.save(model.state_dict(), 'best_model.pth')  # сохраняем только веса\n",
    "        print(f\"✅ Saved best model at epoch {epoch+1} with val_acc: {val_acc:.4f}\")"
   ]
  },
  {
   "cell_type": "code",
   "execution_count": 4,
   "id": "b271d72c",
   "metadata": {},
   "outputs": [
    {
     "name": "stdout",
     "output_type": "stream",
     "text": [
      "torch.Size([3, 224, 224])\n"
     ]
    },
    {
     "data": {
      "text/plain": [
       "tensor([[[0.2796, 0.2796, 0.2967,  ..., 0.4508, 0.4679, 0.4679],\n",
       "         [0.2796, 0.2796, 0.2796,  ..., 0.4337, 0.4508, 0.4508],\n",
       "         [0.2624, 0.2624, 0.2624,  ..., 0.4337, 0.4337, 0.4508],\n",
       "         ...,\n",
       "         [0.1768, 0.1768, 0.1939,  ..., 0.2796, 0.2967, 0.3138],\n",
       "         [0.1768, 0.1768, 0.1939,  ..., 0.2796, 0.2967, 0.3138],\n",
       "         [0.1768, 0.1768, 0.1768,  ..., 0.2796, 0.2967, 0.3138]],\n",
       "\n",
       "        [[0.4153, 0.4153, 0.4328,  ..., 0.5903, 0.6078, 0.6078],\n",
       "         [0.4153, 0.4153, 0.4153,  ..., 0.5728, 0.5903, 0.5903],\n",
       "         [0.3978, 0.3978, 0.3978,  ..., 0.5728, 0.5728, 0.5903],\n",
       "         ...,\n",
       "         [0.3102, 0.3102, 0.3277,  ..., 0.4153, 0.4328, 0.4503],\n",
       "         [0.3102, 0.3102, 0.3277,  ..., 0.4153, 0.4328, 0.4503],\n",
       "         [0.3102, 0.3102, 0.3102,  ..., 0.4153, 0.4328, 0.4503]],\n",
       "\n",
       "        [[0.6356, 0.6356, 0.6531,  ..., 0.8099, 0.8274, 0.8274],\n",
       "         [0.6356, 0.6356, 0.6356,  ..., 0.7925, 0.8099, 0.8099],\n",
       "         [0.6182, 0.6182, 0.6182,  ..., 0.7925, 0.7925, 0.8099],\n",
       "         ...,\n",
       "         [0.5311, 0.5311, 0.5485,  ..., 0.6356, 0.6531, 0.6705],\n",
       "         [0.5311, 0.5311, 0.5485,  ..., 0.6356, 0.6531, 0.6705],\n",
       "         [0.5311, 0.5311, 0.5311,  ..., 0.6356, 0.6531, 0.6705]]])"
      ]
     },
     "execution_count": 4,
     "metadata": {},
     "output_type": "execute_result"
    }
   ],
   "source": [
    "sample_img, label = val_dataset[0]\n",
    "print(sample_img.shape)\n",
    "sample_img"
   ]
  },
  {
   "cell_type": "code",
   "execution_count": 5,
   "id": "708f224a",
   "metadata": {},
   "outputs": [
    {
     "data": {
      "text/plain": [
       "['Bosmina longirostris Europe adult',\n",
       " 'Bosmina longirostris Europe juvinile',\n",
       " 'Bosmina sp nov. Sakhalin adult',\n",
       " 'Bosmina sp nov. Sakhalin juvinile']"
      ]
     },
     "execution_count": 5,
     "metadata": {},
     "output_type": "execute_result"
    }
   ],
   "source": [
    "class_names"
   ]
  },
  {
   "cell_type": "code",
   "execution_count": 6,
   "id": "e5d7d62a",
   "metadata": {},
   "outputs": [
    {
     "data": {
      "text/plain": [
       "51"
      ]
     },
     "execution_count": 6,
     "metadata": {},
     "output_type": "execute_result"
    }
   ],
   "source": [
    "len(val_dataset)"
   ]
  }
 ],
 "metadata": {
  "kernelspec": {
   "display_name": "myenv",
   "language": "python",
   "name": "python3"
  },
  "language_info": {
   "codemirror_mode": {
    "name": "ipython",
    "version": 3
   },
   "file_extension": ".py",
   "mimetype": "text/x-python",
   "name": "python",
   "nbconvert_exporter": "python",
   "pygments_lexer": "ipython3",
   "version": "3.10.8"
  }
 },
 "nbformat": 4,
 "nbformat_minor": 5
}
